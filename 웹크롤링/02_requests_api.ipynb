{
 "cells": [
  {
   "cell_type": "markdown",
   "metadata": {},
   "source": [
    "### API\n",
    "- application progromming interface\n",
    "- api를 사용해서 데이터를 수집하는 것은 서비스에 데이터를 제공하는 공식적인 방법으로 데이터 수집\n",
    "- naver papago api : 번역 서비스"
   ]
  },
  {
   "cell_type": "code",
   "execution_count": 4,
   "metadata": {},
   "outputs": [],
   "source": [
    "# 1. app 등록 > app_key(request_token) (developers.naver.com)\n",
    "# 2. naver API Document 확인\n",
    "# 3. request(url, app_key) : JSON(str)\n",
    "# 4. JSON > DataFrame"
   ]
  },
  {
   "cell_type": "code",
   "execution_count": 31,
   "metadata": {},
   "outputs": [],
   "source": [
    "import pandas as pd\n",
    "import requests, json"
   ]
  },
  {
   "cell_type": "code",
   "execution_count": 37,
   "metadata": {},
   "outputs": [],
   "source": [
    "# 1\n",
    "CLIENT_ID, CLIENT_SECRET = \"BshXEwPIacpbTMGX8WdZ\", \"VnHQaUG3GM\""
   ]
  },
  {
   "cell_type": "code",
   "execution_count": 33,
   "metadata": {},
   "outputs": [],
   "source": [
    "# 2\n",
    "txt = \"파이썬은 재밌습니다.\"\n",
    "url = \"https://openapi.naver.com/v1/papago/n2mt\"\n",
    "params = {\"source\":\"ko\",\"target\":\"en\", \"text\":txt}\n",
    "headers = {\"Content-Type\":\"application/json\",\n",
    "           \"X-Naver-Client-Id\":CLIENT_ID,\n",
    "           \"X-Naver-Client-Secret\":CLIENT_SECRET}"
   ]
  },
  {
   "cell_type": "code",
   "execution_count": 34,
   "metadata": {},
   "outputs": [
    {
     "data": {
      "text/plain": [
       "<Response [429]>"
      ]
     },
     "execution_count": 34,
     "metadata": {},
     "output_type": "execute_result"
    }
   ],
   "source": [
    "# 3\n",
    "# json.dumps() : 한글과 같은 문자를 인코딩(영문, 숫자, 특수문자)\n",
    "# 인터넷 트래픽에서는 영문, 숫자, 특수문자만 사용가능\n",
    "response = requests.post(url, json.dumps(params), headers=headers)\n",
    "response"
   ]
  },
  {
   "cell_type": "code",
   "execution_count": 36,
   "metadata": {},
   "outputs": [
    {
     "data": {
      "text/plain": [
       "{'errorMessage': '{count/quota=10019/10000} : Query limit exceeded. (쿼리 한도를 초과했습니다.)',\n",
       " 'errorCode': '010'}"
      ]
     },
     "execution_count": 36,
     "metadata": {},
     "output_type": "execute_result"
    }
   ],
   "source": [
    "# 4\n",
    "response.json()[\"message\"][\"result\"][\"translatedText\"]"
   ]
  },
  {
   "cell_type": "code",
   "execution_count": 38,
   "metadata": {},
   "outputs": [],
   "source": [
    "# 5. 함수로 작성\n",
    "def translate(txt):\n",
    "        url = \"https://openapi.naver.com/v1/papago/n2mt\"\n",
    "        params = {\"source\":\"ko\",\"target\":\"en\", \"text\":txt}\n",
    "        headers = {\"Content-Type\":\"application/json\",\n",
    "                \"X-Naver-Client-Id\":CLIENT_ID,\n",
    "                \"X-Naver-Client-Secret\":CLIENT_SECRET}\n",
    "        response = requests.post(url, json.dumps(params), headers=headers)\n",
    "        txt_en = response.json()[\"message\"][\"result\"][\"translatedText\"]\n",
    "        return txt_en"
   ]
  },
  {
   "cell_type": "code",
   "execution_count": 39,
   "metadata": {},
   "outputs": [
    {
     "data": {
      "text/plain": [
       "'East Sea Water and Baekdusan Mountain'"
      ]
     },
     "execution_count": 39,
     "metadata": {},
     "output_type": "execute_result"
    }
   ],
   "source": [
    "text = \"동해물과 백두산\"\n",
    "translate(text)"
   ]
  },
  {
   "cell_type": "code",
   "execution_count": 27,
   "metadata": {},
   "outputs": [
    {
     "data": {
      "text/html": [
       "<div>\n",
       "<style scoped>\n",
       "    .dataframe tbody tr th:only-of-type {\n",
       "        vertical-align: middle;\n",
       "    }\n",
       "\n",
       "    .dataframe tbody tr th {\n",
       "        vertical-align: top;\n",
       "    }\n",
       "\n",
       "    .dataframe thead th {\n",
       "        text-align: right;\n",
       "    }\n",
       "</style>\n",
       "<table border=\"1\" class=\"dataframe\">\n",
       "  <thead>\n",
       "    <tr style=\"text-align: right;\">\n",
       "      <th></th>\n",
       "      <th>category</th>\n",
       "      <th>link</th>\n",
       "      <th>title</th>\n",
       "      <th>content</th>\n",
       "    </tr>\n",
       "  </thead>\n",
       "  <tbody>\n",
       "    <tr>\n",
       "      <th>0</th>\n",
       "      <td>101</td>\n",
       "      <td>https://news.naver.com/main/read.nhn?mode=LSD&amp;...</td>\n",
       "      <td>SK바이오사이언스, 코로나19 백신 임상 3상 시험계획 제출</td>\n",
       "      <td>SK바이오사이언스가 코로나19 백신 후보물질(GBP510)의 임상 3상 시험계획...</td>\n",
       "    </tr>\n",
       "    <tr>\n",
       "      <th>1</th>\n",
       "      <td>102</td>\n",
       "      <td>https://news.naver.com/main/read.nhn?mode=LSD&amp;...</td>\n",
       "      <td>고양시 노래연습장 코로나19 누적확진 41명</td>\n",
       "      <td>【파이낸셜뉴스 고양=강근주 기자】 고양시는 28일 16시 기준 29명이 코로...</td>\n",
       "    </tr>\n",
       "    <tr>\n",
       "      <th>2</th>\n",
       "      <td>103</td>\n",
       "      <td>https://news.naver.com/main/read.nhn?mode=LSD&amp;...</td>\n",
       "      <td>코로나19 신규 감염, 28일 오후 9시까지 542명</td>\n",
       "      <td>[스포츠경향] 28일 서울 중구 서울역 광장에 마련된 코로나19 임시 선별검사소...</td>\n",
       "    </tr>\n",
       "    <tr>\n",
       "      <th>3</th>\n",
       "      <td>103</td>\n",
       "      <td>https://news.naver.com/main/read.nhn?mode=LSD&amp;...</td>\n",
       "      <td>프로야구 수도권 구단서 코로나19 확진자 발생</td>\n",
       "      <td>[이데일리 김지완 기자] 복수의 프로야구 수도권 구단에서 코로나19 확진자가 발...</td>\n",
       "    </tr>\n",
       "    <tr>\n",
       "      <th>4</th>\n",
       "      <td>104</td>\n",
       "      <td>https://news.naver.com/main/read.nhn?mode=LSD&amp;...</td>\n",
       "      <td>\"코로나 확진자 '0명'인 날은 절대 오지 않는다\" 美전문가</td>\n",
       "      <td>\"주기적 발병…미국서 항상 어느 정도의 확산 있을 것\"\"팬데믹 초기와는 다를 것…백...</td>\n",
       "    </tr>\n",
       "    <tr>\n",
       "      <th>5</th>\n",
       "      <td>104</td>\n",
       "      <td>https://news.naver.com/main/read.nhn?mode=LSD&amp;...</td>\n",
       "      <td>올림픽 다가오는데 도쿄 코로나 확산 빨라져...일주일새 25％↑</td>\n",
       "      <td>올림픽 개막이 다가오는 가운데 개최지 일본 도쿄에서 코로나19 확산 속도가 빨라...</td>\n",
       "    </tr>\n",
       "  </tbody>\n",
       "</table>\n",
       "</div>"
      ],
      "text/plain": [
       "   category                                               link  \\\n",
       "0       101  https://news.naver.com/main/read.nhn?mode=LSD&...   \n",
       "1       102  https://news.naver.com/main/read.nhn?mode=LSD&...   \n",
       "2       103  https://news.naver.com/main/read.nhn?mode=LSD&...   \n",
       "3       103  https://news.naver.com/main/read.nhn?mode=LSD&...   \n",
       "4       104  https://news.naver.com/main/read.nhn?mode=LSD&...   \n",
       "5       104  https://news.naver.com/main/read.nhn?mode=LSD&...   \n",
       "\n",
       "                                 title  \\\n",
       "0    SK바이오사이언스, 코로나19 백신 임상 3상 시험계획 제출   \n",
       "1             고양시 노래연습장 코로나19 누적확진 41명   \n",
       "2        코로나19 신규 감염, 28일 오후 9시까지 542명   \n",
       "3            프로야구 수도권 구단서 코로나19 확진자 발생   \n",
       "4    \"코로나 확진자 '0명'인 날은 절대 오지 않는다\" 美전문가   \n",
       "5  올림픽 다가오는데 도쿄 코로나 확산 빨라져...일주일새 25％↑   \n",
       "\n",
       "                                             content  \n",
       "0    SK바이오사이언스가 코로나19 백신 후보물질(GBP510)의 임상 3상 시험계획...  \n",
       "1      【파이낸셜뉴스 고양=강근주 기자】 고양시는 28일 16시 기준 29명이 코로...  \n",
       "2    [스포츠경향] 28일 서울 중구 서울역 광장에 마련된 코로나19 임시 선별검사소...  \n",
       "3    [이데일리 김지완 기자] 복수의 프로야구 수도권 구단에서 코로나19 확진자가 발...  \n",
       "4  \"주기적 발병…미국서 항상 어느 정도의 확산 있을 것\"\"팬데믹 초기와는 다를 것…백...  \n",
       "5    올림픽 개막이 다가오는 가운데 개최지 일본 도쿄에서 코로나19 확산 속도가 빨라...  "
      ]
     },
     "execution_count": 27,
     "metadata": {},
     "output_type": "execute_result"
    }
   ],
   "source": [
    "# %% time : 셀 실행시간 출력\n",
    "covid = pd.read_excel(\"covid.xlsx\")\n",
    "covid.head(10)"
   ]
  },
  {
   "cell_type": "code",
   "execution_count": null,
   "metadata": {},
   "outputs": [],
   "source": [
    "covid.tail(2)"
   ]
  },
  {
   "cell_type": "code",
   "execution_count": 40,
   "metadata": {},
   "outputs": [],
   "source": [
    "covid_en = covid[\"title\"].apply(translate)"
   ]
  },
  {
   "cell_type": "code",
   "execution_count": 41,
   "metadata": {},
   "outputs": [],
   "source": [
    "covid[\"title\"] = covid_en"
   ]
  },
  {
   "cell_type": "code",
   "execution_count": 42,
   "metadata": {},
   "outputs": [
    {
     "data": {
      "text/html": [
       "<div>\n",
       "<style scoped>\n",
       "    .dataframe tbody tr th:only-of-type {\n",
       "        vertical-align: middle;\n",
       "    }\n",
       "\n",
       "    .dataframe tbody tr th {\n",
       "        vertical-align: top;\n",
       "    }\n",
       "\n",
       "    .dataframe thead th {\n",
       "        text-align: right;\n",
       "    }\n",
       "</style>\n",
       "<table border=\"1\" class=\"dataframe\">\n",
       "  <thead>\n",
       "    <tr style=\"text-align: right;\">\n",
       "      <th></th>\n",
       "      <th>category</th>\n",
       "      <th>link</th>\n",
       "      <th>title</th>\n",
       "      <th>content</th>\n",
       "    </tr>\n",
       "  </thead>\n",
       "  <tbody>\n",
       "    <tr>\n",
       "      <th>0</th>\n",
       "      <td>101</td>\n",
       "      <td>https://news.naver.com/main/read.nhn?mode=LSD&amp;...</td>\n",
       "      <td>SK Bioscience Submits Phase III Clinical Trial...</td>\n",
       "      <td>SK바이오사이언스가 코로나19 백신 후보물질(GBP510)의 임상 3상 시험계획...</td>\n",
       "    </tr>\n",
       "    <tr>\n",
       "      <th>1</th>\n",
       "      <td>102</td>\n",
       "      <td>https://news.naver.com/main/read.nhn?mode=LSD&amp;...</td>\n",
       "      <td>41 cumulative COVID-19 confirmed patients at G...</td>\n",
       "      <td>【파이낸셜뉴스 고양=강근주 기자】 고양시는 28일 16시 기준 29명이 코로...</td>\n",
       "    </tr>\n",
       "  </tbody>\n",
       "</table>\n",
       "</div>"
      ],
      "text/plain": [
       "   category                                               link  \\\n",
       "0       101  https://news.naver.com/main/read.nhn?mode=LSD&...   \n",
       "1       102  https://news.naver.com/main/read.nhn?mode=LSD&...   \n",
       "\n",
       "                                               title  \\\n",
       "0  SK Bioscience Submits Phase III Clinical Trial...   \n",
       "1  41 cumulative COVID-19 confirmed patients at G...   \n",
       "\n",
       "                                             content  \n",
       "0    SK바이오사이언스가 코로나19 백신 후보물질(GBP510)의 임상 3상 시험계획...  \n",
       "1      【파이낸셜뉴스 고양=강근주 기자】 고양시는 28일 16시 기준 29명이 코로...  "
      ]
     },
     "execution_count": 42,
     "metadata": {},
     "output_type": "execute_result"
    }
   ],
   "source": [
    "covid.head(2)"
   ]
  },
  {
   "cell_type": "code",
   "execution_count": 44,
   "metadata": {},
   "outputs": [],
   "source": [
    "# ascii, euc-kr, utf-8 등\n",
    "covid.to_excel(\"covid_en.xlsx\", encoding=\"utf-8-sig\")"
   ]
  },
  {
   "cell_type": "code",
   "execution_count": 45,
   "metadata": {},
   "outputs": [],
   "source": [
    "# 함수 : Scope\n",
    "# 변수를 선언할때 함수 밖에서 선언하는 것과 함수 안에서 선언하는 변수의 메모리 저장공간이 다름.\n",
    "# 전역(global) : 함수 밖의 영역\n",
    "# 지역(local) : 함수 안의 영역"
   ]
  },
  {
   "cell_type": "code",
   "execution_count": 47,
   "metadata": {},
   "outputs": [],
   "source": [
    "# 구드 링크 : https://drive.google.com/drive/folders/16Z-QFw20ZpZ4hkQ-GtxDaSgzy3w82UvW\n",
    "# 실습 과제\n",
    "# https://finance.daum.net/exchanges\n",
    "# headers : referer, user-agent 설정"
   ]
  }
 ],
 "metadata": {
  "kernelspec": {
   "display_name": "Python 3.8.8 ('base')",
   "language": "python",
   "name": "python3"
  },
  "language_info": {
   "codemirror_mode": {
    "name": "ipython",
    "version": 3
   },
   "file_extension": ".py",
   "mimetype": "text/x-python",
   "name": "python",
   "nbconvert_exporter": "python",
   "pygments_lexer": "ipython3",
   "version": "3.8.8"
  },
  "orig_nbformat": 4,
  "vscode": {
   "interpreter": {
    "hash": "f08154012ddadd8e950e6e9e035c7a7b32c136e7647e9b7c77e02eb723a8bedb"
   }
  }
 },
 "nbformat": 4,
 "nbformat_minor": 2
}
